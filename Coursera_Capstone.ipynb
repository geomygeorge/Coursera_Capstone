{
 "cells": [
  {
   "cell_type": "markdown",
   "metadata": {
    "collapsed": true
   },
   "source": [
    "### This notebook is for Coursera Capstone assignment"
   ]
  },
  {
   "cell_type": "code",
   "execution_count": null,
   "metadata": {},
   "outputs": [],
   "source": [
    "import pandas as pd\n",
    "import numpy as np\n",
    "from bs4 import BeautifulSoup\n",
    "import requests"
   ]
  },
  {
   "cell_type": "markdown",
   "metadata": {},
   "source": [
    "### Get Wikipedia HTML page for List of postal codes of Canada: M"
   ]
  },
  {
   "cell_type": "code",
   "execution_count": null,
   "metadata": {},
   "outputs": [],
   "source": [
    "source = requests.get('https://en.wikipedia.org/wiki/List_of_postal_codes_of_Canada:_M').text\n",
    "soup = BeautifulSoup(source, 'lxml')"
   ]
  },
  {
   "cell_type": "markdown",
   "metadata": {},
   "source": [
    "### Find post code table within the HTML file"
   ]
  },
  {
   "cell_type": "code",
   "execution_count": null,
   "metadata": {},
   "outputs": [],
   "source": [
    "zip_table = soup.findAll('table', {'class':'wikitable'})[0].tbody"
   ]
  },
  {
   "cell_type": "code",
   "execution_count": null,
   "metadata": {},
   "outputs": [],
   "source": [
    "zip_rows = zip_table.find_all('tr')\n",
    "#zip_rows"
   ]
  },
  {
   "cell_type": "code",
   "execution_count": null,
   "metadata": {},
   "outputs": [],
   "source": [
    "all_post_codes = []\n",
    "for tag in zip_rows:\n",
    "    row = tag.text\n",
    "    post_code = (row.split('\\n')[1:4])\n",
    "    all_post_codes.append(post_code)\n",
    "\n",
    "#Remove the first row, as it is the title of the table\n",
    "all_post_codes = all_post_codes[1:]"
   ]
  },
  {
   "cell_type": "code",
   "execution_count": null,
   "metadata": {},
   "outputs": [],
   "source": [
    "len(all_post_codes)"
   ]
  },
  {
   "cell_type": "code",
   "execution_count": null,
   "metadata": {},
   "outputs": [],
   "source": [
    "col_names = ['Postcode', 'Borough', 'Neighbourhood']\n",
    "zip_df = pd.DataFrame(all_post_codes,columns=col_names)\n"
   ]
  },
  {
   "cell_type": "code",
   "execution_count": null,
   "metadata": {},
   "outputs": [],
   "source": [
    "zip_df.head(10)"
   ]
  },
  {
   "cell_type": "markdown",
   "metadata": {},
   "source": [
    "### Exclude post code rows, which dont have a Borough assigned"
   ]
  },
  {
   "cell_type": "code",
   "execution_count": null,
   "metadata": {
    "scrolled": false
   },
   "outputs": [],
   "source": [
    "zip_cleaned_df = zip_df.loc[zip_df['Borough'] != 'Not assigned'].reset_index(drop=True)\n",
    "zip_cleaned_df.shape\n",
    "zip_cleaned_df.head()"
   ]
  },
  {
   "cell_type": "markdown",
   "metadata": {},
   "source": [
    "### Combined the neighborhoods, with same post code"
   ]
  },
  {
   "cell_type": "code",
   "execution_count": null,
   "metadata": {},
   "outputs": [],
   "source": [
    "neighborhood_groups = zip_cleaned_df.groupby('Postcode').groups\n",
    "duplicates_to_remove = []\n",
    "for key, post_indexes in neighborhood_groups.items():\n",
    "    \n",
    "    if(post_indexes.size > 1):\n",
    "        #print(key, post_index)\n",
    "        \n",
    "        #Iterate over the groups and get Neighborhoods\n",
    "        neighbourhoods = ''\n",
    "        for post_index in post_indexes:\n",
    "            #print(post_index)\n",
    "            #print(key, zip_cleaned_df.iloc[post_index].Neighbourhood)\n",
    "            #Combine all the neighbourhoods\n",
    "            neighbourhoods += (zip_cleaned_df.iloc[post_index].Neighbourhood + ', ')\n",
    "        \n",
    "        #trim the last ',' and the space\n",
    "        neighbourhoods = neighbourhoods[:-2]\n",
    "        \n",
    "        first_index = post_indexes[0]\n",
    "        #print(key, neighbourhoods)\n",
    "        #Assign the combined string into first index in the dataframe\n",
    "        zip_cleaned_df.at[first_index, 'Neighbourhood'] = neighbourhoods\n",
    "        #print(post_indexes[1:].tolist())\n",
    "        duplicates_to_remove.extend(post_indexes[1:].tolist())"
   ]
  },
  {
   "cell_type": "code",
   "execution_count": null,
   "metadata": {},
   "outputs": [],
   "source": [
    "#Remove duplicate Boroughs from dataframe\n",
    "print(duplicates_to_remove)\n",
    "zip_cleaned_df.drop(duplicates_to_remove, inplace=True)\n",
    "#print()\n",
    "    \n",
    "    "
   ]
  },
  {
   "cell_type": "code",
   "execution_count": null,
   "metadata": {
    "scrolled": true
   },
   "outputs": [],
   "source": [
    "zip_cleaned_df.shape\n",
    "zip_cleaned_df.head(10)"
   ]
  },
  {
   "cell_type": "code",
   "execution_count": null,
   "metadata": {},
   "outputs": [],
   "source": [
    "zip_cleaned_df.loc[(zip_cleaned_df['Borough'] != 'Not assigned') & (zip_cleaned_df['Neighbourhood'] == 'Not assigned')]"
   ]
  },
  {
   "cell_type": "markdown",
   "metadata": {},
   "source": [
    "### Replace values in Neighbourhood column with Borough, if it is 'Not assigned'"
   ]
  },
  {
   "cell_type": "code",
   "execution_count": null,
   "metadata": {},
   "outputs": [],
   "source": [
    "# for row in zip_cleaned_df.itertuples():\n",
    "    \n",
    "#     if row.Neighbourhood == 'Not assigned':\n",
    "        \n",
    "#         print(row)\n",
    "#         borough = row.Borough\n",
    "#         ind_to_update = row.Index\n",
    "#         zip_cleaned_df[ind_to_update, 'zip_cleaned_df'] = borough\n",
    "#         break;\n",
    "zip_cleaned_df.at[6, 'Neighbourhood'] = \"Queen's Park\""
   ]
  },
  {
   "cell_type": "code",
   "execution_count": null,
   "metadata": {},
   "outputs": [],
   "source": [
    "zip_cleaned_df.shape"
   ]
  },
  {
   "cell_type": "code",
   "execution_count": null,
   "metadata": {},
   "outputs": [],
   "source": []
  }
 ],
 "metadata": {
  "kernelspec": {
   "display_name": "Python 3.5",
   "language": "python",
   "name": "python3"
  },
  "language_info": {
   "codemirror_mode": {
    "name": "ipython",
    "version": 3
   },
   "file_extension": ".py",
   "mimetype": "text/x-python",
   "name": "python",
   "nbconvert_exporter": "python",
   "pygments_lexer": "ipython3",
   "version": "3.5.5"
  }
 },
 "nbformat": 4,
 "nbformat_minor": 1
}
